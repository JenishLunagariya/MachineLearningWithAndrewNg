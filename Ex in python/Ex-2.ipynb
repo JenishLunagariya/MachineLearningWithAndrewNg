{
 "cells": [
  {
   "cell_type": "markdown",
   "metadata": {},
   "source": [
    "### Logistic Regression Excercise"
   ]
  },
  {
   "cell_type": "markdown",
   "metadata": {},
   "source": [
    "#### Simple case"
   ]
  },
  {
   "cell_type": "code",
   "execution_count": 2,
   "metadata": {},
   "outputs": [],
   "source": [
    "import numpy as np\n",
    "import pandas as pd"
   ]
  },
  {
   "cell_type": "markdown",
   "metadata": {},
   "source": [
    "#### Load the Data "
   ]
  },
  {
   "cell_type": "code",
   "execution_count": 3,
   "metadata": {},
   "outputs": [],
   "source": [
    "data = pd.read_csv('/Users/nirmal/MyOctaveWorks/Ex in python/ex2data1.txt')"
   ]
  },
  {
   "cell_type": "code",
   "execution_count": 4,
   "metadata": {},
   "outputs": [],
   "source": [
    "Data = np.array(data)"
   ]
  },
  {
   "cell_type": "code",
   "execution_count": 5,
   "metadata": {},
   "outputs": [],
   "source": [
    "X = Data[:,0:2]\n",
    "y = Data[:,2]"
   ]
  },
  {
   "cell_type": "markdown",
   "metadata": {},
   "source": [
    "#### Plot the data"
   ]
  },
  {
   "cell_type": "code",
   "execution_count": 6,
   "metadata": {},
   "outputs": [],
   "source": [
    "import matplotlib.pyplot as plt\n",
    "def plotData(x,y):\n",
    "    pos = np.argwhere(y == 1)\n",
    "    neg = np.argwhere(y == 0)\n",
    "\n",
    "    plt.scatter(x[pos,0],x[pos,1])\n",
    "    plt.scatter(x[neg,0],x[neg,1])     \n",
    "    plt.xlabel('Exam-1 score')\n",
    "    plt.ylabel('Exam-2 score')\n",
    "    plt.legend(['0','1'])\n",
    "    plt.title('scatter plot')\n"
   ]
  },
  {
   "cell_type": "code",
   "execution_count": 7,
   "metadata": {},
   "outputs": [
    {
     "data": {
      "image/png": "[encoded data removed]",
      "text/plain": [
       "<Figure size 432x288 with 1 Axes>"
      ]
     },
     "metadata": {
      "needs_background": "light"
     },
     "output_type": "display_data"
    }
   ],
   "source": [
    "plotData(X,y)"
   ]
  },
  {
   "cell_type": "markdown",
   "metadata": {},
   "source": [
    "#### Sigmoid Function"
   ]
  },
  {
   "cell_type": "code",
   "execution_count": 8,
   "metadata": {},
   "outputs": [],
   "source": [
    "def sigMoid(z):\n",
    "    g=np.zeros((len(z),1))\n",
    "    for i in range(len(z)):\n",
    "        g[i] = 1/(1+(2.718)**(-z[i]))\n",
    "    return g"
   ]
  },
  {
   "cell_type": "code",
   "execution_count": 9,
   "metadata": {},
   "outputs": [
    {
     "data": {
      "text/plain": [
       "array([[0.5       ],\n",
       "       [0.5       ],\n",
       "       [0.73103819],\n",
       "       [0.73103819]])"
      ]
     },
     "execution_count": 9,
     "metadata": {},
     "output_type": "execute_result"
    }
   ],
   "source": [
    "sigMoid(y)[1:5]"
   ]
  },
  {
   "cell_type": "markdown",
   "metadata": {},
   "source": [
    "#### Framing of Datasets"
   ]
  },
  {
   "cell_type": "code",
   "execution_count": 10,
   "metadata": {},
   "outputs": [],
   "source": [
    "m , n = np.shape(X)"
   ]
  },
  {
   "cell_type": "code",
   "execution_count": 11,
   "metadata": {},
   "outputs": [],
   "source": [
    "one  = np.ones((m,1))"
   ]
  },
  {
   "cell_type": "code",
   "execution_count": 12,
   "metadata": {},
   "outputs": [],
   "source": [
    "X = np.concatenate((one,X),axis = 1)"
   ]
  },
  {
   "cell_type": "code",
   "execution_count": 13,
   "metadata": {},
   "outputs": [],
   "source": [
    "initial_theta = np.zeros((n+1,1))"
   ]
  },
  {
   "cell_type": "code",
   "execution_count": 14,
   "metadata": {},
   "outputs": [],
   "source": [
    "theta2 = [-24,0.2,0.2]\n",
    "theta2 = np.array(theta2).reshape(3,1)"
   ]
  },
  {
   "cell_type": "code",
   "execution_count": 15,
   "metadata": {},
   "outputs": [],
   "source": [
    "y = y.reshape((m,1))"
   ]
  },
  {
   "cell_type": "markdown",
   "metadata": {},
   "source": [
    "#### costFunction"
   ]
  },
  {
   "cell_type": "code",
   "execution_count": 16,
   "metadata": {},
   "outputs": [],
   "source": [
    "def costFunction(theta,x,y):\n",
    "    m = len(y)\n",
    "    J = 0\n",
    "    grad = np.zeros(np.shape(theta))\n",
    "    # For Calculation of J\n",
    "    z = x.dot(theta)\n",
    "    h = sigMoid(z)\n",
    "    logh = np.log(h)\n",
    "    log1h = np.log((one - h))\n",
    "    H=-y*(logh) - (one - y)*(log1h)\n",
    "    \n",
    "    J = (1/m)*(np.sum(H))\n",
    "    # For Gradient\n",
    "    grad = np.dot(x.T,(h-y))/m\n",
    "    \n",
    "    return J,grad"
   ]
  },
  {
   "cell_type": "code",
   "execution_count": 17,
   "metadata": {},
   "outputs": [
    {
     "data": {
      "text/plain": [
       "array([[ -0.1       ],\n",
       "       [-12.00921659],\n",
       "       [-11.26284221]])"
      ]
     },
     "execution_count": 17,
     "metadata": {},
     "output_type": "execute_result"
    }
   ],
   "source": [
    "costFunction(initial_theta,X,y)[1]"
   ]
  },
  {
   "cell_type": "code",
   "execution_count": 18,
   "metadata": {},
   "outputs": [
    {
     "data": {
      "text/plain": [
       "(0.2183288537557024,\n",
       " array([[0.04290262],\n",
       "        [2.5661411 ],\n",
       "        [2.64674695]]))"
      ]
     },
     "execution_count": 18,
     "metadata": {},
     "output_type": "execute_result"
    }
   ],
   "source": [
    "costFunction(theta2,X,y)"
   ]
  },
  {
   "cell_type": "markdown",
   "metadata": {},
   "source": [
    "#### Optimization of Theta value"
   ]
  },
  {
   "cell_type": "code",
   "execution_count": 19,
   "metadata": {},
   "outputs": [],
   "source": [
    "import scipy.optimize as opt\n",
    "result = opt.fmin_tnc(func = costFunction,x0 = initial_theta, args = (X,y))\n",
    "result = np.array(result)"
   ]
  },
  {
   "cell_type": "code",
   "execution_count": 20,
   "metadata": {},
   "outputs": [],
   "source": [
    "thetaMin = result[0][:].reshape((3,1))"
   ]
  },
  {
   "cell_type": "markdown",
   "metadata": {},
   "source": [
    "#### mapFeature\n"
   ]
  },
  {
   "cell_type": "code",
   "execution_count": 21,
   "metadata": {},
   "outputs": [],
   "source": [
    "def feature_mapping(features,degree = 6):\n",
    "    degree = 6\n",
    "    count = 0\n",
    "    for i in range(0,degree+1):\n",
    "        for j in range(0,1):\n",
    "            x1_feature = np.power(features[0],i-j)\n",
    "            x2_feature = np.power(features[1],j)\n",
    "            features.append(x1_feature)\n",
    "            features.append(x2_feature)\n",
    "    x0 = np.vstack(features).T\n",
    "    return x0"
   ]
  },
  {
   "cell_type": "markdown",
   "metadata": {},
   "source": [
    "#### plotDecision Boundary"
   ]
  },
  {
   "cell_type": "code",
   "execution_count": 22,
   "metadata": {},
   "outputs": [],
   "source": [
    "def plotDecisionBoundary(theta,X,y):\n",
    "    plotData(X[:,1:],y)\n",
    "    \n",
    "    dim = int(''.join(map(str,np.shape(X[1])))) # change tuple into int\n",
    "    if dim<=3:\n",
    "        plot_x = [np.min(X[:,2])-2,np.max(X[:,2])+2]\n",
    "        plot_y = (-1/theta[2])*(theta[1]*plot_x + theta[0])\n",
    "        plt.plot(plot_x,plot_y)\n",
    "        plt.legend(['Decision Boundary','0','1'])\n",
    "    else:\n",
    "        u = np.linspace(-1,1.5,50)\n",
    "        v = np.linspace(-1,1.5,50)\n",
    "        \n",
    "        z = np.zeros((len(u),len(v)))\n",
    "        for i in range(len(u)):\n",
    "            for j in range(len(v)):\n",
    "                z[i,j] = feature_mapping(u[i],v[j])@theta\n",
    "        z = z.T"
   ]
  },
  {
   "cell_type": "code",
   "execution_count": 23,
   "metadata": {},
   "outputs": [
    {
     "data": {
      "image/png": "[encoded data removed]",
      "text/plain": [
       "<Figure size 432x288 with 1 Axes>"
      ]
     },
     "metadata": {
      "needs_background": "light"
     },
     "output_type": "display_data"
    }
   ],
   "source": [
    "plotDecisionBoundary(thetaMin,X,y)"
   ]
  },
  {
   "cell_type": "markdown",
   "metadata": {},
   "source": [
    "#### predict Function"
   ]
  },
  {
   "cell_type": "code",
   "execution_count": 24,
   "metadata": {},
   "outputs": [],
   "source": [
    "def predict(theta,x):\n",
    "    m = x.shape[0]\n",
    "    p = np.zeros((m,1))\n",
    "    for i in range(m):\n",
    "        if sigMoid(x[i]@theta) >= 0.5:\n",
    "            p[i] = 1\n",
    "        else:\n",
    "            p[i] = 0\n",
    "    return p\n"
   ]
  },
  {
   "cell_type": "code",
   "execution_count": 25,
   "metadata": {},
   "outputs": [
    {
     "name": "stdout",
     "output_type": "stream",
     "text": [
      "For a student 45 and 85, we predict as admission...\n",
      "probability [[0.77629062]]\n"
     ]
    }
   ],
   "source": [
    "prob = sigMoid([1,45,85]@thetaMin)\n",
    "print('For a student 45 and 85, we predict as admission...')\n",
    "print(f'probability {prob}')"
   ]
  },
  {
   "cell_type": "code",
   "execution_count": 26,
   "metadata": {},
   "outputs": [],
   "source": [
    "p = predict(thetaMin,X)"
   ]
  },
  {
   "cell_type": "code",
   "execution_count": 27,
   "metadata": {},
   "outputs": [
    {
     "name": "stdout",
     "output_type": "stream",
     "text": [
      "Train Accuracy: 89.0\n",
      "Expected Accuracy: 89.0\n"
     ]
    }
   ],
   "source": [
    "print(\"Train Accuracy:\",np.mean(p==y)*100)\n",
    "print(\"Expected Accuracy: 89.0\")"
   ]
  },
  {
   "cell_type": "markdown",
   "metadata": {},
   "source": [
    "### Excercise-II"
   ]
  },
  {
   "cell_type": "code",
   "execution_count": 28,
   "metadata": {},
   "outputs": [],
   "source": [
    "data2 = pd.read_csv('/Users/nirmal/MyOctaveWorks/Ex in python/ex2data2.txt')"
   ]
  },
  {
   "cell_type": "code",
   "execution_count": 29,
   "metadata": {},
   "outputs": [],
   "source": [
    "Data2 = np.array(data2)"
   ]
  },
  {
   "cell_type": "code",
   "execution_count": 30,
   "metadata": {},
   "outputs": [],
   "source": [
    "X2 = Data2[:,0:2]\n",
    "y2 = Data2[:,2].reshape(117,1)"
   ]
  },
  {
   "cell_type": "code",
   "execution_count": 31,
   "metadata": {},
   "outputs": [
    {
     "data": {
      "text/plain": [
       "<matplotlib.legend.Legend at 0x7fbedb5d4890>"
      ]
     },
     "execution_count": 31,
     "metadata": {},
     "output_type": "execute_result"
    },
    {
     "data": {
      "image/png": "[encoded data removed]",
      "text/plain": [
       "<Figure size 432x288 with 1 Axes>"
      ]
     },
     "metadata": {
      "needs_background": "light"
     },
     "output_type": "display_data"
    }
   ],
   "source": [
    "plotData(X2,y2)\n",
    "plt.xlabel('Microchip Test 1')\n",
    "plt.ylabel('Microchip Test 2')\n",
    "plt.legend(['1','0'])"
   ]
  },
  {
   "cell_type": "code",
   "execution_count": 32,
   "metadata": {},
   "outputs": [],
   "source": [
    "initial_theta2 = np.zeros((X2.shape[1],1))"
   ]
  },
  {
   "cell_type": "markdown",
   "metadata": {},
   "source": [
    "#### Feature Mapping"
   ]
  },
  {
   "cell_type": "code",
   "execution_count": 33,
   "metadata": {},
   "outputs": [
    {
     "data": {
      "text/plain": [
       "(117, 16)"
      ]
     },
     "execution_count": 33,
     "metadata": {},
     "output_type": "execute_result"
    }
   ],
   "source": [
    "x0 = feature_mapping(features = [X2[:,0],X2[:,1]])\n",
    "x0.shape"
   ]
  },
  {
   "cell_type": "code",
   "execution_count": 34,
   "metadata": {},
   "outputs": [
    {
     "data": {
      "text/plain": [
       "(117, 1)"
      ]
     },
     "execution_count": 34,
     "metadata": {},
     "output_type": "execute_result"
    }
   ],
   "source": [
    "ones = np.ones(shape=(len(Data2),1))\n",
    "ones.shape"
   ]
  },
  {
   "cell_type": "code",
   "execution_count": 35,
   "metadata": {},
   "outputs": [],
   "source": [
    "X2 = np.concatenate((ones,x0),axis = 1)\n",
    "m,n = np.shape(X2)  #(117,17)"
   ]
  },
  {
   "cell_type": "code",
   "execution_count": 36,
   "metadata": {},
   "outputs": [],
   "source": [
    "theta0 = np.zeros((n,1)) #(17,1)"
   ]
  },
  {
   "cell_type": "code",
   "execution_count": 39,
   "metadata": {},
   "outputs": [],
   "source": [
    "test_theta = np.ones((n,1))\n",
    "theta1 = test_theta"
   ]
  },
  {
   "cell_type": "markdown",
   "metadata": {},
   "source": [
    "#### costFunctionReg"
   ]
  },
  {
   "cell_type": "code",
   "execution_count": 50,
   "metadata": {},
   "outputs": [],
   "source": [
    "def costFunctionReg(theta,x,y,lamda):\n",
    "    m = len(y)\n",
    "    J = 0\n",
    "    one = np.ones((m,1))\n",
    "    h = sigMoid(x@theta)\n",
    "    logh = np.log(h)\n",
    "    log1h = np.log((one - h))\n",
    "    H = -y*logh -(one - y)*log1h\n",
    "    first_term = np.sum(H)/m\n",
    "    second_term = np.sum(np.power(theta,2))*(lamda/(2*m))\n",
    "    J = first_term + second_term\n",
    "    #Grad\n",
    "    thetaZero = theta\n",
    "    thetaZero[0] = 0\n",
    "    grad = np.dot(x.T,(h-y))/m + (lamda/m)*thetaZero\n",
    "    return J,grad"
   ]
  },
  {
   "cell_type": "code",
   "execution_count": 51,
   "metadata": {},
   "outputs": [
    {
     "data": {
      "text/plain": [
       "(0.6931471805599454,\n",
       " array([[0.01282051],\n",
       "        [0.01916776],\n",
       "        [0.00306801],\n",
       "        [0.01282051],\n",
       "        [0.01282051],\n",
       "        [0.01916776],\n",
       "        [0.01282051],\n",
       "        [0.05078617],\n",
       "        [0.01282051],\n",
       "        [0.01851345],\n",
       "        [0.01282051],\n",
       "        [0.03968497],\n",
       "        [0.01282051],\n",
       "        [0.02014144],\n",
       "        [0.01282051],\n",
       "        [0.03129647],\n",
       "        [0.01282051]]))"
      ]
     },
     "execution_count": 51,
     "metadata": {},
     "output_type": "execute_result"
    }
   ],
   "source": [
    "costFunctionReg(theta0,X2,y2,1)"
   ]
  },
  {
   "cell_type": "code",
   "execution_count": null,
   "metadata": {},
   "outputs": [],
   "source": []
  },
  {
   "cell_type": "code",
   "execution_count": null,
   "metadata": {},
   "outputs": [],
   "source": []
  },
  {
   "cell_type": "code",
   "execution_count": null,
   "metadata": {},
   "outputs": [],
   "source": []
  }
 ],
 "metadata": {
  "kernelspec": {
   "display_name": "Python 3",
   "language": "python",
   "name": "python3"
  },
  "language_info": {
   "codemirror_mode": {
    "name": "ipython",
    "version": 3
   },
   "file_extension": ".py",
   "mimetype": "text/x-python",
   "name": "python",
   "nbconvert_exporter": "python",
   "pygments_lexer": "ipython3",
   "version": "3.7.6"
  }
 },
 "nbformat": 4,
 "nbformat_minor": 4
}
